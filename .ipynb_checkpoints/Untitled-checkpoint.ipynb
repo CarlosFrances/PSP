{
 "cells": [
  {
   "cell_type": "markdown",
   "id": "4b087c0b",
   "metadata": {},
   "source": [
    "# Ejercicio: Cadenas de caracteres"
   ]
  },
  {
   "cell_type": "code",
   "execution_count": 34,
   "id": "c296d0a0",
   "metadata": {},
   "outputs": [
    {
     "name": "stdout",
     "output_type": "stream",
     "text": [
      "True\n",
      "True\n",
      "False\n",
      "Aprendiendo Python Desde El Nivel Cero \n",
      "APRENDIENDO PYTHON DESDE EL NIVEL CERO \n",
      "aprendiendo python desde el nivel cero \n",
      "aPRENDIENDO pYTHON DESDE EL NIVEL CERO \n",
      "Aprendiendo Python desde el nivel cero\n"
     ]
    }
   ],
   "source": [
    "text=\"Aprendiendo Python desde el nivel cero \"\n",
    "\n",
    "#1.Comprueba que empieza por la letra A\n",
    "print(text[0]==\"A\")\n",
    "\n",
    "#2.Comprueba que no empieza por la letra a\n",
    "print(text[0]!=\"a\")\n",
    "\n",
    "#3.Comprueba que termina por la letra o\n",
    "print(text[-1]==\"o\")\n",
    "\n",
    "#4.Pon la cadena en notación húngara\n",
    "print(text.title())\n",
    "\n",
    "#5.Pon la cadena en mayúscula\n",
    "print(text.upper())\n",
    "\n",
    "#6.Pon la cadena en minúscula\n",
    "print(text.lower())\n",
    "\n",
    "#7.Sustituye las mayúsculas por minúsculas y viceversa\n",
    "print(text.swapcase())\n",
    "\n",
    "#8.Sustituye la \"A\" inicial por \" A\" y elimina los espacios en blanco del inicio y final\n",
    "text=text.replace(\"A\",\" A\")\n",
    "text=text.rstrip()\n",
    "text=text.lstrip()\n",
    "print(text)"
   ]
  },
  {
   "cell_type": "code",
   "execution_count": null,
   "id": "d78520d7",
   "metadata": {},
   "outputs": [],
   "source": []
  }
 ],
 "metadata": {
  "kernelspec": {
   "display_name": "Python 3 (ipykernel)",
   "language": "python",
   "name": "python3"
  },
  "language_info": {
   "codemirror_mode": {
    "name": "ipython",
    "version": 3
   },
   "file_extension": ".py",
   "mimetype": "text/x-python",
   "name": "python",
   "nbconvert_exporter": "python",
   "pygments_lexer": "ipython3",
   "version": "3.9.12"
  }
 },
 "nbformat": 4,
 "nbformat_minor": 5
}
