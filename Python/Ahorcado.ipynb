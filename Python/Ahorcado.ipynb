{
 "cells": [
  {
   "cell_type": "markdown",
   "id": "e1d42116",
   "metadata": {},
   "source": [
    "# Juego del Ahorcado"
   ]
  },
  {
   "cell_type": "code",
   "execution_count": 13,
   "id": "98b36d24",
   "metadata": {},
   "outputs": [],
   "source": [
    "# Declaración de las variables\n",
    "palabra = 'ahorcado'\n",
    "palabra_aux = palabra.replace(palabra, '-'*len(palabra))\n",
    "vidas = len(palabra)\n",
    "letras_usadas = set()"
   ]
  },
  {
   "cell_type": "code",
   "execution_count": null,
   "id": "0c8fbfb7",
   "metadata": {},
   "outputs": [
    {
     "name": "stdout",
     "output_type": "stream",
     "text": [
      "Te quedan  8  vidas\n",
      "Has usado estas palabras:  set()\n",
      "Introduce una letra: k\n",
      "Te quedan  7  vidas\n",
      "Has usado estas palabras:  {'k'}\n",
      "Introduce una letra: h\n",
      "Ya has utilizado esa letra, vuelve a probar\n",
      "Te quedan  7  vidas\n",
      "Has usado estas palabras:  {'k', 'h'}\n",
      "Introduce una letra: a\n",
      "Ya has utilizado esa letra, vuelve a probar\n",
      "Te quedan  7  vidas\n",
      "Has usado estas palabras:  {'k', 'h', 'a'}\n"
     ]
    }
   ],
   "source": [
    "# Comenzamos el juego. Inicializamos un bucle hasta que las vidas sean 0 o menos\n",
    "while(vidas > 0):\n",
    "    print('Te quedan ', vidas, ' vidas')\n",
    "    print('Has usado estas palabras: ', letras_usadas)\n",
    "    letra_input = input('Introduce una letra: ')\n",
    "    # Introducimos la letra en el conjunto\n",
    "    letras_usadas.add(letra_input)\n",
    "    # TODO -> Evitamos que la letra introducida sea repetida\n",
    "    # Comprobamos que se encuentra en la palabra del juego\n",
    "    if (letra_input in palabra):\n",
    "        if letra_input in letras_usadas:\n",
    "            print(\"Ya has utilizado esa letra, vuelve a probar\")\n",
    "            continue\n",
    "        while True:\n",
    "            aux2=palabra\n",
    "            if letra_input in aux2:\n",
    "                palabra_aux[aux2.index(letra_input)]=letra_input\n",
    "                aux2[aux2.index(letra_input)]=\"_\"\n",
    "            else:\n",
    "                break\n",
    "        print(\"Tu palabra queda: \",palabra_aux)\n",
    "    else:\n",
    "        vidas -= 1\n",
    "    if palabra_aux==palabra:\n",
    "        print(\"¡¡¡Has Ganado!!!\")"
   ]
  }
 ],
 "metadata": {
  "kernelspec": {
   "display_name": "Python 3 (ipykernel)",
   "language": "python",
   "name": "python3"
  },
  "language_info": {
   "codemirror_mode": {
    "name": "ipython",
    "version": 3
   },
   "file_extension": ".py",
   "mimetype": "text/x-python",
   "name": "python",
   "nbconvert_exporter": "python",
   "pygments_lexer": "ipython3",
   "version": "3.9.12"
  }
 },
 "nbformat": 4,
 "nbformat_minor": 5
}
