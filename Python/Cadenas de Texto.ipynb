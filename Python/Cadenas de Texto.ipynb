{
 "cells": [
  {
   "cell_type": "markdown",
   "id": "7bf36fc1",
   "metadata": {},
   "source": [
    "## 3. Trabajar con cadenas de texto\n",
    "\n",
    "[Documentación oficial](https://docs.python.org/3/library/string.html)"
   ]
  },
  {
   "cell_type": "code",
   "execution_count": 4,
   "id": "deabdc77",
   "metadata": {},
   "outputs": [
    {
     "name": "stdout",
     "output_type": "stream",
     "text": [
      "Héroes del Silencio\n"
     ]
    }
   ],
   "source": [
    "# Introducción a las cadenas de caracteres\n",
    "\n",
    "variable_texto = \"Héroes del Silencio\"\n",
    "\n",
    "print (variable_texto)"
   ]
  },
  {
   "cell_type": "code",
   "execution_count": 5,
   "id": "da109d75",
   "metadata": {},
   "outputs": [
    {
     "name": "stdout",
     "output_type": "stream",
     "text": [
      "19\n"
     ]
    }
   ],
   "source": [
    "#longitud de cadena -> len\n",
    "print(len(variable_texto))"
   ]
  },
  {
   "cell_type": "code",
   "execution_count": 11,
   "id": "05a113af",
   "metadata": {},
   "outputs": [
    {
     "name": "stdout",
     "output_type": "stream",
     "text": [
      "d\n",
      "del Silencio\n",
      "Héroes \n",
      "o\n",
      "H\n",
      "H\n"
     ]
    }
   ],
   "source": [
    "#Acceso a subconjunto de caracteres\n",
    "print(variable_texto[7])\n",
    "\n",
    "# Acceso desde una posicion dada hasta final\n",
    "print(variable_texto[7:])\n",
    "\n",
    "# Acceso desde el principio a posicion dada\n",
    "print(variable_texto[:7])\n",
    "\n",
    "# Ultimo caracter\n",
    "print(variable_texto[-1])\n",
    "\n",
    "# Para el primer caracter\n",
    "print(variable_texto[0])\n",
    "print(variable_texto[-19])"
   ]
  },
  {
   "cell_type": "code",
   "execution_count": 13,
   "id": "1f5374a5",
   "metadata": {},
   "outputs": [
    {
     "name": "stdout",
     "output_type": "stream",
     "text": [
      "mmmmmmmmmmmmmmmmmmmmmmmmmmmmmmmmmmmmmmmmmmmmmmmmmmmmmmmmmmmmmmmmmmmmmmmmmmmmmmmmmmmmmmmmmmmmmmmmmmmmmmmmmmmmmmmmmmmmmmmmmmmmmmmm\n"
     ]
    }
   ],
   "source": [
    "#Repetir iteraciones\n",
    "print('m' * 128)"
   ]
  },
  {
   "cell_type": "markdown",
   "id": "14710409",
   "metadata": {},
   "source": [
    "## Principales built-in functions de los strings\n",
    "\n",
    "[All built-in functions](https://docs.python.org/3/library/stdtypes.html#string-methods)"
   ]
  },
  {
   "cell_type": "code",
   "execution_count": 19,
   "id": "34986501",
   "metadata": {},
   "outputs": [
    {
     "name": "stdout",
     "output_type": "stream",
     "text": [
      "['Héroes', 'del', 'Silencio']\n"
     ]
    }
   ],
   "source": [
    "# split -> dividir => lista/array \n",
    "print(variable_texto.split())"
   ]
  },
  {
   "cell_type": "code",
   "execution_count": 20,
   "id": "bbc779e0",
   "metadata": {},
   "outputs": [
    {
     "name": "stdout",
     "output_type": "stream",
     "text": [
      "2\n"
     ]
    }
   ],
   "source": [
    "# count => int\n",
    "print(variable_texto.count('o'))"
   ]
  },
  {
   "cell_type": "code",
   "execution_count": 22,
   "id": "48fa7c95",
   "metadata": {},
   "outputs": [
    {
     "name": "stdout",
     "output_type": "stream",
     "text": [
      "Mañanaéroes del Silencio\n"
     ]
    }
   ],
   "source": [
    "# replace => string\n",
    "print(variable_texto.replace('H', 'Mañana'))"
   ]
  },
  {
   "cell_type": "code",
   "execution_count": null,
   "id": "3f5e62f1",
   "metadata": {},
   "outputs": [],
   "source": [
    "# find"
   ]
  },
  {
   "cell_type": "markdown",
   "id": "e5e45f7d",
   "metadata": {},
   "source": [
    "### EJERCICIO: Cadenas de caracteres\n",
    "\n",
    "* Hemos visto que, trabajando con una función, podemos escribir un punto y después pulsar tabulador para que nos salgan todas las posibles opciones.\n",
    "\n",
    "**Utiliza las funciones de cadenas de texto**\n",
    "\n",
    "A partir de la cadena 'Aprendiendo Python desde el nivel cero'\n",
    "\n",
    "* 1. Comprueba que empieza por la letra A\n",
    "* 2. Comprueba que no empieza por la letra a\n",
    "* 3. Comprueba que termina por la letra o\n",
    "* 4. Pon la cadena en notación húngara (primera letra de cada palabra en mayúscula)\n",
    "* 5. Pon la cadena en mayúscula\n",
    "* 6. Pon la cadena en minúscula\n",
    "* 7. Sustituye las mayúsculas por minúsculas y viceversa\n",
    "* 8. Sustituye la \"A\" inicial por \"  A\" y elimina los espacios en blanco del inicio y final"
   ]
  },
  {
   "cell_type": "markdown",
   "id": "fc08a479",
   "metadata": {},
   "source": [
    "### EJERCICIO: Cadenas de caracteres\n",
    "\n",
    "**Diseña un programa que resuelva la siguiente situación**: \n",
    "\n",
    "Dados los siguientes verbos infinitivos en inglés, indicar el simple past y el past parciciple aprovechando el máximo número de la forma en infinitivo. Utiliza la gestión de subcadenas para solucionarlo \n",
    "Ejemplo: \n",
    "Verbo: \n",
    "\n",
    "Infinitive: Begin: \n",
    "\n",
    "Simple past: Beg+***a***+n\n",
    "\n",
    "Past Participle: Beg+***u***+n\n",
    "\n",
    "Es decir, siempre que las letras a usar estén en el infinito, se deben aprovechar. \n",
    "\n",
    "Lista de verbos: \n",
    "- choose/chose/chosen (elegir)\n",
    "- Bite/bit/bitten (morder)\n",
    "- Draw/drew/drown (dibujar)\n",
    "- Eat/ate/eaten (comer)"
   ]
  }
 ],
 "metadata": {
  "kernelspec": {
   "display_name": "Python 3 (ipykernel)",
   "language": "python",
   "name": "python3"
  },
  "language_info": {
   "codemirror_mode": {
    "name": "ipython",
    "version": 3
   },
   "file_extension": ".py",
   "mimetype": "text/x-python",
   "name": "python",
   "nbconvert_exporter": "python",
   "pygments_lexer": "ipython3",
   "version": "3.9.12"
  }
 },
 "nbformat": 4,
 "nbformat_minor": 5
}
