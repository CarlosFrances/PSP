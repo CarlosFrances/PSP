{
 "cells": [
  {
   "cell_type": "markdown",
   "id": "e1d42116",
   "metadata": {},
   "source": [
    "# Juego del Ahorcado"
   ]
  },
  {
   "cell_type": "code",
   "execution_count": 5,
   "id": "98b36d24",
   "metadata": {},
   "outputs": [
    {
     "name": "stdout",
     "output_type": "stream",
     "text": [
      "Introduce una palabra: culo\n"
     ]
    }
   ],
   "source": [
    "# Declaración de las variables\n",
    "\n",
    "# la variable palabra será introducida por el usuario\n",
    "palabra = input(\"Introduce una palabra: \")\n",
    "palabra_aux = palabra.replace(palabra, '-'*len(palabra))\n",
    "# La cantidad de vidas dependerá del tamaño de la palabra escogida por el jugador\n",
    "vidas = len(palabra)\n",
    "letras_usadas = set()\n",
    "win = False"
   ]
  },
  {
   "cell_type": "code",
   "execution_count": 6,
   "id": "0c8fbfb7",
   "metadata": {},
   "outputs": [
    {
     "name": "stdout",
     "output_type": "stream",
     "text": [
      "Te quedan  4  vidas\n",
      "Has usado estas letras:  set()\n",
      "Introduce una letra: c\n",
      "La cosa queda así: c---\n",
      "\n",
      "\n",
      "Te quedan  4  vidas\n",
      "Has usado estas letras:  {'c'}\n",
      "Introduce una letra: y\n",
      "La cosa queda así: c---\n",
      "\n",
      "\n",
      "Te quedan  3  vidas\n",
      "Has usado estas letras:  {'y', 'c'}\n",
      "Introduce una letra: t\n",
      "La cosa queda así: c---\n",
      "\n",
      "\n",
      "Te quedan  2  vidas\n",
      "Has usado estas letras:  {'y', 'c', 't'}\n",
      "Introduce una letra: r\n",
      "La cosa queda así: c---\n",
      "\n",
      "\n",
      "Te quedan  1  vidas\n",
      "Has usado estas letras:  {'y', 'r', 'c', 't'}\n",
      "Introduce una letra: e\n",
      "TE HAS QUEDADO SIN VIDAS, VUELVE A INTENTARLO\n",
      "La palabra era: culo\n"
     ]
    }
   ],
   "source": [
    "# Comenzamos el juego. Inicializamos un bucle hasta que las vidas sean 0 o menos\n",
    "while(vidas > 0):\n",
    "    print('Te quedan ', vidas, ' vidas')\n",
    "    print('Has usado estas letras: ', letras_usadas)\n",
    "    letra_input = input('Introduce una letra: ')\n",
    "    # Introducimos la letra en el conjunto si no ha sido ya utilizada\n",
    "    if letra_input in letras_usadas:\n",
    "        print(\"Ya has utilizado esa letra, vuelve a probar\")\n",
    "        continue\n",
    "    else:\n",
    "        letras_usadas.add(letra_input)\n",
    "    # Comprobamos si la letra está en la palabra y más\n",
    "    if letra_input in palabra:\n",
    "        # comprobamos mediante un bucle for con indice (idx) las posiciones de las letras y \n",
    "        # las sustituimos en la variable auxiliar\n",
    "        for idx,l in enumerate(palabra):\n",
    "            if l==letra_input:\n",
    "                palabra_aux=palabra_aux[:idx] + letra_input + palabra_aux[idx+1:]\n",
    "    else: vidas-=1\n",
    "    #En el momento en que la varaible auxiliar coincida con la palabra, habremos ganado el juego\n",
    "    if palabra_aux==palabra:\n",
    "        win=True\n",
    "        break\n",
    "    # Perderemos si nos quedamos sin vidas, terminará el juego\n",
    "    if vidas==0:\n",
    "        print(\"TE HAS QUEDADO SIN VIDAS, VUELVE A INTENTARLO\")\n",
    "        print(\"La palabra era: \"+palabra)\n",
    "        break\n",
    "    print(\"La cosa queda así: \"+palabra_aux+\"\\n\\n\")\n",
    "\n",
    "# Fuera del while, si hemos ganado (win == True), damos la enhorabuena al jugador y termina el juego\n",
    "if win == True:\n",
    "    print(\"\\n\\n\\n\\nLa palabra era: \"+palabra)\n",
    "    print(\"¡¡¡¡¡ENHORABUENA, LO HAS CONSEGUIDO!!!!!\")"
   ]
  },
  {
   "cell_type": "code",
   "execution_count": null,
   "id": "d76a6795",
   "metadata": {},
   "outputs": [],
   "source": []
  }
 ],
 "metadata": {
  "kernelspec": {
   "display_name": "Python 3 (ipykernel)",
   "language": "python",
   "name": "python3"
  },
  "language_info": {
   "codemirror_mode": {
    "name": "ipython",
    "version": 3
   },
   "file_extension": ".py",
   "mimetype": "text/x-python",
   "name": "python",
   "nbconvert_exporter": "python",
   "pygments_lexer": "ipython3",
   "version": "3.9.12"
  }
 },
 "nbformat": 4,
 "nbformat_minor": 5
}
