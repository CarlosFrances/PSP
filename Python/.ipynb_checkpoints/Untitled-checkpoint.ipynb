{
 "cells": [
  {
   "cell_type": "markdown",
   "id": "9f721400",
   "metadata": {},
   "source": [
    "# Calculadora"
   ]
  },
  {
   "cell_type": "code",
   "execution_count": 8,
   "id": "f93a9f54",
   "metadata": {},
   "outputs": [
    {
     "name": "stdout",
     "output_type": "stream",
     "text": [
      "Elija el operador (+ o -): 7\n",
      "Primer número: 1\n",
      "Segundo número2\n",
      "No ha seleccionado operador\n"
     ]
    }
   ],
   "source": [
    "operador=input(\"Elija el operador (+ o -): \")\n",
    "num1=int(input(\"Primer número: \"))\n",
    "num2=int(input(\"Segundo número\"))\n",
    "if operador==\"+\":\n",
    "    print(\"Suma: \",num1+num2)\n",
    "elif operador==\"-\":\n",
    "    print(\"Resta: \",num1-num2)\n",
    "else: print(\"No ha seleccionado operador\")"
   ]
  }
 ],
 "metadata": {
  "kernelspec": {
   "display_name": "Python 3 (ipykernel)",
   "language": "python",
   "name": "python3"
  },
  "language_info": {
   "codemirror_mode": {
    "name": "ipython",
    "version": 3
   },
   "file_extension": ".py",
   "mimetype": "text/x-python",
   "name": "python",
   "nbconvert_exporter": "python",
   "pygments_lexer": "ipython3",
   "version": "3.9.12"
  }
 },
 "nbformat": 4,
 "nbformat_minor": 5
}
