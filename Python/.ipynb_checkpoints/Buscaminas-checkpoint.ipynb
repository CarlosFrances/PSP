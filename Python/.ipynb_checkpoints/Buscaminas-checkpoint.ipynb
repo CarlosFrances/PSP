{
 "cells": [
  {
   "cell_type": "code",
   "execution_count": 1,
   "id": "d6107f0c",
   "metadata": {},
   "outputs": [],
   "source": [
    "import random\n",
    "rand = random.randint(6,6)"
   ]
  },
  {
   "cell_type": "markdown",
   "id": "1bbec4ed",
   "metadata": {},
   "source": [
    "# Utilizaremos array bidimensional de booleanos para almacenar la matriz de coordenadas"
   ]
  },
  {
   "cell_type": "code",
   "execution_count": 2,
   "id": "7d2a1c25",
   "metadata": {},
   "outputs": [
    {
     "name": "stdout",
     "output_type": "stream",
     "text": [
      "[[False, False, False, False, False, False], [False, False, False, False, False, False], [False, False, False, False, False, False], [False, False, False, False, False, False], [False, False, False, False, False, False], [False, False, False, False, False, False]]\n"
     ]
    }
   ],
   "source": [
    "matriz = [[False for i in range(rand)] for j in range(rand)]\n",
    "print(matriz)"
   ]
  },
  {
   "cell_type": "markdown",
   "id": "52fa69a5",
   "metadata": {},
   "source": [
    "# Crearemos unas coordenadas aleatorias para las minas\n"
   ]
  },
  {
   "cell_type": "code",
   "execution_count": null,
   "id": "28264db4",
   "metadata": {},
   "outputs": [],
   "source": [
    "minas=list() \n",
    "for i in range(rand**2//2): \n",
    "    #formula para escalar las minas (si se desea implementar diferentes dificultades, hay que cambiarla)\n",
    "    while True: \n",
    "        #mediante este bucle nos aseguramos de que no aparezcan minas en lugares repetidos\n",
    "        x=random.randint(0,rand-1)\n",
    "        y=random.randint(0,rand-1)\n",
    "        if x+y not in minas:\n",
    "            break\n",
    "    minas.append(x+y)\n",
    "    matriz[x][y]=True\n",
    "\n",
    "print(matriz)"
   ]
  },
  {
   "cell_type": "markdown",
   "id": "f6197c06",
   "metadata": {},
   "source": [
    "# Creamos una matriz visualizable\n"
   ]
  },
  {
   "cell_type": "code",
   "execution_count": null,
   "id": "f890a0f8",
   "metadata": {},
   "outputs": [],
   "source": [
    "matrizVis = [['O' for i in range(rand)] for j in range(rand)]\n",
    "print(matrizVis)"
   ]
  },
  {
   "cell_type": "markdown",
   "id": "e8bf0759",
   "metadata": {},
   "source": [
    "# Vamos a utilizar un bucle tipo while para el desarrollo del juego. este termina cuando encontramos una mina\n"
   ]
  },
  {
   "cell_type": "code",
   "execution_count": null,
   "id": "8aba4c7d",
   "metadata": {},
   "outputs": [],
   "source": [
    "def printMatrizVis():\n",
    "    for i in range(rand):\n",
    "        print(matrizVis[i])\n",
    "        \n",
    "def buscarMina(x,y):\n",
    "    for i in matriz:\n",
    "        if matriz[int(x)][int(y)] == False:\n",
    "            matrizVis[int(x)][int(y)] = 'P'\n",
    "        else:\n",
    "            matrizVis[int(x)][int(y)] = 'X'\n",
    "        \n",
    "while True:\n",
    "    printMatrizVis()\n",
    "        \n",
    "    x = input(\"posicion en x: \")\n",
    "    y = input(\"posicion en y: \")\n",
    "    buscarMina(x,y)\n",
    "    \n",
    "    if matriz[int(x)][int(y)] == True:\n",
    "        printMatrizVis()\n",
    "        print(\"cagaste\")\n",
    "        break"
   ]
  }
 ],
 "metadata": {
  "kernelspec": {
   "display_name": "Python 3 (ipykernel)",
   "language": "python",
   "name": "python3"
  },
  "language_info": {
   "codemirror_mode": {
    "name": "ipython",
    "version": 3
   },
   "file_extension": ".py",
   "mimetype": "text/x-python",
   "name": "python",
   "nbconvert_exporter": "python",
   "pygments_lexer": "ipython3",
   "version": "3.9.12"
  }
 },
 "nbformat": 4,
 "nbformat_minor": 5
}
