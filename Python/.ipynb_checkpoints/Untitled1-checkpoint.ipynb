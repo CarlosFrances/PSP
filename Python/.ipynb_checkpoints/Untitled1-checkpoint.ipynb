{
 "cells": [
  {
   "cell_type": "markdown",
   "id": "aa25a3a5",
   "metadata": {},
   "source": [
    "# Juego del Ahorcado"
   ]
  },
  {
   "cell_type": "code",
   "execution_count": null,
   "id": "2d903604",
   "metadata": {},
   "outputs": [],
   "source": [
    "# Declaracion de variables\n",
    "palabra = \"ahorcado\"\n",
    "vidas = len(palabra)\n",
    "letras_usadas = set()"
   ]
  },
  {
   "cell_type": "code",
   "execution_count": null,
   "id": "e97681eb",
   "metadata": {},
   "outputs": [],
   "source": [
    "# Comenzar el juego. Inicializar bucle while hasta que las vidas caigan a 0 o ganes la partida\n",
    "while(vidas > 0):   \n",
    "    print(\"Te quedan: \"+str(vidas)+\" vidas\")\n",
    "    print(\"Letras utilizadas: \", letras_usadas)\n",
    "    letra_input = input(\"Elige una letra: \")\n",
    "    # Introducir letra en el conjunto\n",
    "    letras_usadas.add(letra_input)\n",
    "    # Evitamos que la letra introducida sea repetida\n",
    "    \n",
    "    # Comprobar si la letra está en la palabra \n",
    "    if (letra_input not in palabra):\n",
    "        vidas -=1\n",
    "    "
   ]
  },
  {
   "cell_type": "code",
   "execution_count": 3,
   "id": "e23fe2b5",
   "metadata": {},
   "outputs": [
    {
     "name": "stdout",
     "output_type": "stream",
     "text": [
      "ahorcado\n"
     ]
    }
   ],
   "source": [
    "# recorrer la variable letras_usadas\n",
    "\n",
    "#palabra_aux=palabra.replace(palabra,'-'*len(palabra))\n",
    "\n",
    "#for letra in letras_usadas:\n",
    "\n",
    "print(palabra[0])\n",
    "    "
   ]
  },
  {
   "cell_type": "code",
   "execution_count": null,
   "id": "12cb580d",
   "metadata": {},
   "outputs": [],
   "source": []
  },
  {
   "cell_type": "code",
   "execution_count": null,
   "id": "f23a0783",
   "metadata": {},
   "outputs": [],
   "source": []
  }
 ],
 "metadata": {
  "kernelspec": {
   "display_name": "Python 3 (ipykernel)",
   "language": "python",
   "name": "python3"
  },
  "language_info": {
   "codemirror_mode": {
    "name": "ipython",
    "version": 3
   },
   "file_extension": ".py",
   "mimetype": "text/x-python",
   "name": "python",
   "nbconvert_exporter": "python",
   "pygments_lexer": "ipython3",
   "version": "3.9.12"
  }
 },
 "nbformat": 4,
 "nbformat_minor": 5
}
