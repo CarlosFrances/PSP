#DECLARACION DE VARIABLES
import random
rand = random.randint(6,6)

# Utilizaremos array bidimensional de booleanos para almacenar la matriz de coordenadas
matriz = [[False for i in range(rand)] for j in range(rand)]
print(matriz)

# Crearemos unas coordenadas aleatorias para las minas
minas=list() #rand**2//8
for i in range(rand**2//2): #formula para escalar las minas (si se desea implementar diferentes dificultades, hay que cambiarla)
    while True: #mediante este bucle nos aseguramos de que no aparezcan minas en lugares repetidos
        x=random.randint(0,rand-1)
        y=random.randint(0,rand-1)
        if x+y not in minas:
            break
    minas.append(x+y)
    matriz[x][y]=True
print(matriz)

# Creamos una matriz visualizable
matrizVis = [['O' for i in range(rand)] for j in range(rand)]
print(matrizVis)

#Vamos a utilizar un bucle tipo while para el desarrollo del juego. este termina cuando encontramos una mina
def printMatrizVis():
    for i in range(rand):
        print(matrizVis[i])
        
def buscarMina(x,y):
    for i in matriz:
        if matriz[int(x)][int(y)] == False:
            matrizVis[int(x)][int(y)] = 'P'
        else:
            matrizVis[int(x)][int(y)] = 'X'
        
while True:
    printMatrizVis()
        
    x = input("posicion en x: ")
    y = input("posicion en y: ")
    buscarMina(x,y)
    
    if matriz[int(x)][int(y)] == True:
        printMatrizVis()
        print("cagaste")
        break
