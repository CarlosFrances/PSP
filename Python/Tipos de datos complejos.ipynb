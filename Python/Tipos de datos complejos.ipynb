{
 "cells": [
  {
   "cell_type": "markdown",
   "metadata": {},
   "source": [
    "## 4. Tipos de Datos Complejos en Python\n",
    "\n",
    "* Los tipos de datos complejos en Python son:\n",
    "\n",
    "\n",
    "1. Conjuntos: Un conjunto es una **colección que no está ordenada ni indexada**. Se pueden modificar, pero no permiten valores duplicados\n",
    "2. Tuplas: Una tupla representa una **colección de objetos ordenados e inmutables** (no puede ser modificado). Permiten duplicar elementos y están indexadas\n",
    "3. Listas: Una lista contiene una **colección de objetos ordenados y alterables** (se pueden modificar). Permiten duplicar elementos y están indexados.\n",
    "4. Diccionarios: Un diccionario es una **colección no ordenada indexada por una clave que hace referencia a un valor**. El valor se devuelve cuando se proporciona la clave. No se permiten claves duplicadas, pero sí valores. Se pueden modificar."
   ]
  },
  {
   "cell_type": "markdown",
   "metadata": {},
   "source": [
    "### Conjuntos: Colecciones no ordenadas y sin elementos repetidos\n",
    "\n",
    "[Documentación oficial](https://docs.python.org/3/tutorial/datastructures.html#sets)"
   ]
  },
  {
   "cell_type": "code",
   "execution_count": 73,
   "metadata": {},
   "outputs": [
    {
     "data": {
      "text/plain": [
       "{1, 2, 3}"
      ]
     },
     "execution_count": 73,
     "metadata": {},
     "output_type": "execute_result"
    }
   ],
   "source": [
    "# Creamos un conjunto con 3 elementos\n",
    "mi_conjunto = {1, 2, 3}\n",
    "mi_conjunto"
   ]
  },
  {
   "cell_type": "code",
   "execution_count": 74,
   "metadata": {},
   "outputs": [
    {
     "data": {
      "text/plain": [
       "{1, 2, 3, 4}"
      ]
     },
     "execution_count": 74,
     "metadata": {},
     "output_type": "execute_result"
    }
   ],
   "source": [
    "# Y comprobamos que no se permite incluir elementos repetidos!!\n",
    "mi_conjunto = {1, 2, 3, 4, 4/2, 8/2}\n",
    "mi_conjunto"
   ]
  },
  {
   "cell_type": "code",
   "execution_count": 75,
   "metadata": {},
   "outputs": [],
   "source": [
    "# conjunto de platos españoles\n",
    "gastro = {'cocido madrileño', 'paella', 'gazpacho', 'jamón', 'fabada', 'tortilla de patatas'}"
   ]
  },
  {
   "cell_type": "code",
   "execution_count": 76,
   "metadata": {},
   "outputs": [
    {
     "name": "stdout",
     "output_type": "stream",
     "text": [
      "paella\n",
      "{'fabada', 'cocido madrileño', 'tortilla de patatas', 'gazpacho', 'jamón'}\n"
     ]
    }
   ],
   "source": [
    "# Obtenemos un elemento y lo elimina del conjunto\n",
    "print (gastro.pop())\n",
    "print (gastro)"
   ]
  },
  {
   "cell_type": "code",
   "execution_count": 77,
   "metadata": {},
   "outputs": [
    {
     "name": "stdout",
     "output_type": "stream",
     "text": [
      "Elemento:  fabada\n",
      "{'fabada', 'cocido madrileño', 'tortilla de patatas', 'gazpacho', 'jamón'}\n"
     ]
    }
   ],
   "source": [
    "# Obtenemos un elemento del conjunto\n",
    "print ('Elemento: ', next(iter(gastro)))\n",
    "print (gastro)"
   ]
  },
  {
   "cell_type": "code",
   "execution_count": 78,
   "metadata": {},
   "outputs": [
    {
     "name": "stdout",
     "output_type": "stream",
     "text": [
      "fabada\n"
     ]
    }
   ],
   "source": [
    "# Utilizando el iterador\n",
    "iterador = iter(gastro)\n",
    "print(next(iterador))"
   ]
  },
  {
   "cell_type": "code",
   "execution_count": 79,
   "metadata": {},
   "outputs": [
    {
     "name": "stdout",
     "output_type": "stream",
     "text": [
      "cocido madrileño\n"
     ]
    }
   ],
   "source": [
    "print(next(iterador))"
   ]
  },
  {
   "cell_type": "code",
   "execution_count": 80,
   "metadata": {},
   "outputs": [
    {
     "data": {
      "text/plain": [
       "set_iterator"
      ]
     },
     "execution_count": 80,
     "metadata": {},
     "output_type": "execute_result"
    }
   ],
   "source": [
    "type (iterador)"
   ]
  },
  {
   "cell_type": "code",
   "execution_count": 81,
   "metadata": {},
   "outputs": [
    {
     "name": "stdout",
     "output_type": "stream",
     "text": [
      "tortilla de patatas\n",
      "gazpacho\n",
      "jamón\n"
     ]
    },
    {
     "ename": "StopIteration",
     "evalue": "",
     "output_type": "error",
     "traceback": [
      "\u001b[1;31m---------------------------------------------------------------------------\u001b[0m",
      "\u001b[1;31mStopIteration\u001b[0m                             Traceback (most recent call last)",
      "Input \u001b[1;32mIn [81]\u001b[0m, in \u001b[0;36m<cell line: 8>\u001b[1;34m()\u001b[0m\n\u001b[0;32m      6\u001b[0m \u001b[38;5;28mprint\u001b[39m(\u001b[38;5;28mnext\u001b[39m(iterador))\n\u001b[0;32m      7\u001b[0m \u001b[38;5;66;03m# Salida: jamón\u001b[39;00m\n\u001b[1;32m----> 8\u001b[0m \u001b[38;5;28mprint\u001b[39m(\u001b[38;5;28;43mnext\u001b[39;49m\u001b[43m(\u001b[49m\u001b[43miterador\u001b[49m\u001b[43m)\u001b[49m)\n\u001b[0;32m      9\u001b[0m \u001b[38;5;66;03m# Salida: gazpacho\u001b[39;00m\n\u001b[0;32m     10\u001b[0m \u001b[38;5;28mprint\u001b[39m(\u001b[38;5;28mnext\u001b[39m(iterador))\n",
      "\u001b[1;31mStopIteration\u001b[0m: "
     ]
    }
   ],
   "source": [
    "# Salida: cocido madrileño\n",
    "print(next(iterador))\n",
    "# Salida: paella\n",
    "print(next(iterador))\n",
    "# Salida: tortilla de patatas\n",
    "print(next(iterador))\n",
    "# Salida: jamón\n",
    "print(next(iterador))\n",
    "# Salida: gazpacho\n",
    "print(next(iterador))\n",
    "# Salida: fabada\n",
    "print(next(iterador))"
   ]
  },
  {
   "cell_type": "code",
   "execution_count": 82,
   "metadata": {},
   "outputs": [
    {
     "ename": "StopIteration",
     "evalue": "",
     "output_type": "error",
     "traceback": [
      "\u001b[1;31m---------------------------------------------------------------------------\u001b[0m",
      "\u001b[1;31mStopIteration\u001b[0m                             Traceback (most recent call last)",
      "Input \u001b[1;32mIn [82]\u001b[0m, in \u001b[0;36m<cell line: 2>\u001b[1;34m()\u001b[0m\n\u001b[0;32m      1\u001b[0m \u001b[38;5;66;03m# Y si seguimos, obtenemos un error, ya que hemos acabado la lista iterable.\u001b[39;00m\n\u001b[1;32m----> 2\u001b[0m \u001b[38;5;28mprint\u001b[39m(\u001b[38;5;28;43mnext\u001b[39;49m\u001b[43m(\u001b[49m\u001b[43miterador\u001b[49m\u001b[43m)\u001b[49m)\n",
      "\u001b[1;31mStopIteration\u001b[0m: "
     ]
    }
   ],
   "source": [
    "# Y si seguimos, obtenemos un error, ya que hemos acabado la lista iterable.\n",
    "print(next(iterador))"
   ]
  },
  {
   "cell_type": "code",
   "execution_count": 83,
   "metadata": {},
   "outputs": [
    {
     "name": "stdout",
     "output_type": "stream",
     "text": [
      "{'fabada', 'cocido madrileño', 'tortilla de patatas', 'gazpacho', 'jamón'}\n"
     ]
    }
   ],
   "source": [
    "# Volvemos al conjunto\n",
    "print (gastro)"
   ]
  },
  {
   "cell_type": "code",
   "execution_count": 84,
   "metadata": {},
   "outputs": [
    {
     "data": {
      "text/plain": [
       "{'cocido madrileño', 'fabada', 'gazpacho', 'jamón', 'tortilla de patatas'}"
      ]
     },
     "execution_count": 84,
     "metadata": {},
     "output_type": "execute_result"
    }
   ],
   "source": [
    "# En donde podemos añadir elementos, pero no repetidos\n",
    "gastro.add('fabada')\n",
    "gastro"
   ]
  },
  {
   "cell_type": "code",
   "execution_count": 85,
   "metadata": {},
   "outputs": [
    {
     "data": {
      "text/plain": [
       "{'cocido madrileño',\n",
       " 'fabada',\n",
       " 'gazpacho',\n",
       " 'jamón',\n",
       " 'migas del pastor',\n",
       " 'tortilla de patatas'}"
      ]
     },
     "execution_count": 85,
     "metadata": {},
     "output_type": "execute_result"
    }
   ],
   "source": [
    "# En donde podemos añadir elementos, pero no repetidos\n",
    "gastro.add('migas del pastor')\n",
    "gastro"
   ]
  },
  {
   "cell_type": "code",
   "execution_count": 86,
   "metadata": {},
   "outputs": [
    {
     "data": {
      "text/plain": [
       "{'cocido madrileño',\n",
       " 'fabada',\n",
       " 'gazpacho',\n",
       " 'jamón',\n",
       " 'migas del pastor',\n",
       " 'tortilla de patatas'}"
      ]
     },
     "execution_count": 86,
     "metadata": {},
     "output_type": "execute_result"
    }
   ],
   "source": [
    "# podemos eliminar un elemento\n",
    "gastro.discard('paella')\n",
    "gastro"
   ]
  },
  {
   "cell_type": "code",
   "execution_count": 87,
   "metadata": {
    "scrolled": true
   },
   "outputs": [
    {
     "data": {
      "text/plain": [
       "True"
      ]
     },
     "execution_count": 87,
     "metadata": {},
     "output_type": "execute_result"
    }
   ],
   "source": [
    "# También podemos comprobar si un elemento está en el conjunto o no\n",
    "'gazpacho' in gastro"
   ]
  },
  {
   "cell_type": "code",
   "execution_count": 88,
   "metadata": {},
   "outputs": [
    {
     "data": {
      "text/plain": [
       "True"
      ]
     },
     "execution_count": 88,
     "metadata": {},
     "output_type": "execute_result"
    }
   ],
   "source": [
    "'fabada' in gastro"
   ]
  },
  {
   "cell_type": "code",
   "execution_count": 89,
   "metadata": {},
   "outputs": [
    {
     "data": {
      "text/plain": [
       "False"
      ]
     },
     "execution_count": 89,
     "metadata": {},
     "output_type": "execute_result"
    }
   ],
   "source": [
    "'ala' in gastro"
   ]
  },
  {
   "cell_type": "code",
   "execution_count": 90,
   "metadata": {},
   "outputs": [
    {
     "data": {
      "text/plain": [
       "{0, 1, 2, 3, 4, 5, 6, 7, 8, 9}"
      ]
     },
     "execution_count": 90,
     "metadata": {},
     "output_type": "execute_result"
    }
   ],
   "source": [
    "# Podemos eliminar por completo un conjunto\n",
    "# inicializamos con set\n",
    "conjunto_eliminar = set(range(10))\n",
    "conjunto_eliminar"
   ]
  },
  {
   "cell_type": "code",
   "execution_count": 91,
   "metadata": {},
   "outputs": [
    {
     "data": {
      "text/plain": [
       "set()"
      ]
     },
     "execution_count": 91,
     "metadata": {},
     "output_type": "execute_result"
    }
   ],
   "source": [
    "# Y lo vaciamos\n",
    "conjunto_eliminar.clear()\n",
    "conjunto_eliminar"
   ]
  },
  {
   "cell_type": "code",
   "execution_count": 92,
   "metadata": {},
   "outputs": [
    {
     "name": "stdout",
     "output_type": "stream",
     "text": [
      "fabada\n",
      "cocido madrileño\n",
      "tortilla de patatas\n",
      "gazpacho\n",
      "jamón\n",
      "migas del pastor\n",
      "set()\n"
     ]
    }
   ],
   "source": [
    "# Podemos eliminar el conjunto sacando todos sus elementos\n",
    "while (gastro):\n",
    "    a = gastro.pop()\n",
    "    print (a)\n",
    "    \n",
    "print(gastro)"
   ]
  },
  {
   "cell_type": "code",
   "execution_count": 93,
   "metadata": {},
   "outputs": [
    {
     "data": {
      "text/plain": [
       "set()"
      ]
     },
     "execution_count": 93,
     "metadata": {},
     "output_type": "execute_result"
    }
   ],
   "source": [
    "gastro"
   ]
  },
  {
   "cell_type": "code",
   "execution_count": 94,
   "metadata": {},
   "outputs": [
    {
     "name": "stdout",
     "output_type": "stream",
     "text": [
      "{'naranjas', 'pera', 'manzanas', 'plátanos'}\n"
     ]
    }
   ],
   "source": [
    "# Los conjuntos no permiten elementos repetidos como hemos visto\n",
    "compra = {'manzanas', 'naranjas', 'manzanas', 'pera', 'naranjas', 'plátanos'}\n",
    "print(compra)"
   ]
  },
  {
   "cell_type": "code",
   "execution_count": 95,
   "metadata": {},
   "outputs": [
    {
     "name": "stdout",
     "output_type": "stream",
     "text": [
      "naranjas\n",
      "pera\n",
      "manzanas\n",
      "plátanos\n"
     ]
    }
   ],
   "source": [
    "# Iteramos el conjunto con un for\n",
    "for elemento in compra:\n",
    "    print (elemento)"
   ]
  },
  {
   "cell_type": "code",
   "execution_count": 96,
   "metadata": {},
   "outputs": [
    {
     "name": "stdout",
     "output_type": "stream",
     "text": [
      "True\n"
     ]
    }
   ],
   "source": [
    "print ('manzanas' in compra)"
   ]
  },
  {
   "cell_type": "code",
   "execution_count": 97,
   "metadata": {},
   "outputs": [
    {
     "data": {
      "text/plain": [
       "{'kiwis', 'manzanas', 'naranjas', 'pera', 'plátanos'}"
      ]
     },
     "execution_count": 97,
     "metadata": {},
     "output_type": "execute_result"
    }
   ],
   "source": [
    "# Ya hemos visto como añadir un elemento\n",
    "compra.add('kiwis')\n",
    "compra"
   ]
  },
  {
   "cell_type": "code",
   "execution_count": 98,
   "metadata": {},
   "outputs": [
    {
     "ename": "TypeError",
     "evalue": "set.add() takes exactly one argument (2 given)",
     "output_type": "error",
     "traceback": [
      "\u001b[1;31m---------------------------------------------------------------------------\u001b[0m",
      "\u001b[1;31mTypeError\u001b[0m                                 Traceback (most recent call last)",
      "Input \u001b[1;32mIn [98]\u001b[0m, in \u001b[0;36m<cell line: 2>\u001b[1;34m()\u001b[0m\n\u001b[0;32m      1\u001b[0m \u001b[38;5;66;03m# Pero si queremos añadir varios elementos, deberemos utilizar update\u001b[39;00m\n\u001b[1;32m----> 2\u001b[0m \u001b[43mcompra\u001b[49m\u001b[38;5;241;43m.\u001b[39;49m\u001b[43madd\u001b[49m\u001b[43m \u001b[49m\u001b[43m(\u001b[49m\u001b[38;5;124;43m'\u001b[39;49m\u001b[38;5;124;43mleche\u001b[39;49m\u001b[38;5;124;43m'\u001b[39;49m\u001b[43m,\u001b[49m\u001b[43m \u001b[49m\u001b[38;5;124;43m'\u001b[39;49m\u001b[38;5;124;43mpan\u001b[39;49m\u001b[38;5;124;43m'\u001b[39;49m\u001b[43m)\u001b[49m\n",
      "\u001b[1;31mTypeError\u001b[0m: set.add() takes exactly one argument (2 given)"
     ]
    }
   ],
   "source": [
    "# Pero si queremos añadir varios elementos, deberemos utilizar update\n",
    "compra.add ('leche', 'pan')"
   ]
  },
  {
   "cell_type": "code",
   "execution_count": 99,
   "metadata": {},
   "outputs": [
    {
     "name": "stdout",
     "output_type": "stream",
     "text": [
      "{'pan', 'pera', 'mango', 'naranjas', 'kiwis', 'manzanas', 'plátanos', 'leche', 'frambuesas'}\n"
     ]
    }
   ],
   "source": [
    "compra.update(['mango', 'frambuesas', 'pan', 'leche'])\n",
    "print (compra)"
   ]
  },
  {
   "cell_type": "code",
   "execution_count": 100,
   "metadata": {},
   "outputs": [
    {
     "name": "stdout",
     "output_type": "stream",
     "text": [
      "9\n"
     ]
    }
   ],
   "source": [
    "print (len(compra))"
   ]
  },
  {
   "cell_type": "code",
   "execution_count": 101,
   "metadata": {},
   "outputs": [
    {
     "name": "stdout",
     "output_type": "stream",
     "text": [
      "Max:  6 Min 1\n"
     ]
    }
   ],
   "source": [
    "numeros = {1, 2, 3, 4, 5, 6}\n",
    "print ('Max: ', max(numeros), 'Min', min(numeros))"
   ]
  },
  {
   "cell_type": "code",
   "execution_count": null,
   "metadata": {},
   "outputs": [],
   "source": [
    "# Eliminamos elementos\n",
    "numeros.remove(6)\n",
    "print ('Max: ', max(numeros), 'Min', min(numeros))"
   ]
  },
  {
   "cell_type": "markdown",
   "metadata": {},
   "source": [
    "* Operaciones con conjuntos"
   ]
  },
  {
   "cell_type": "code",
   "execution_count": 1,
   "metadata": {},
   "outputs": [
    {
     "name": "stdout",
     "output_type": "stream",
     "text": [
      "Unión  {1, 2, 3, 'd', 'c', 'b', 'a'}\n",
      "Intersección {1}\n",
      "Diferencia {'c', 'b', 'a', 'd'}\n",
      "Diferencia {2, 3}\n",
      "Diferencia simétrica {2, 3, 'd', 'c', 'b', 'a'}\n"
     ]
    }
   ],
   "source": [
    "# Operaciones con conjuntos\n",
    "s1 = {'a', 'b', 'c', 'd', 1}\n",
    "s2 = {1, 2, 3}\n",
    "\n",
    "print ('Unión ', s1 | s2) \n",
    "print ('Intersección', s1 & s2)\n",
    "print ('Diferencia', s1 - s2)\n",
    "print ('Diferencia', s2 - s1)\n",
    "print ('Diferencia simétrica', s1 ^ s2)"
   ]
  },
  {
   "cell_type": "markdown",
   "metadata": {},
   "source": [
    "### Tuplas: Almacena datos inmutables de tipos diferentes. No pueden ser modificados\n",
    "\n",
    "[Documentación oficial](https://docs.python.org/3/tutorial/datastructures.html#tuples-and-sequences)"
   ]
  },
  {
   "cell_type": "code",
   "execution_count": 102,
   "metadata": {},
   "outputs": [
    {
     "data": {
      "text/plain": [
       "('cadena de texto', 15, 2.8, 'mas datos', 25)"
      ]
     },
     "execution_count": 102,
     "metadata": {},
     "output_type": "execute_result"
    }
   ],
   "source": [
    "# Almacenamiento de distintos tipos\n",
    "mi_tupla = ('cadena de texto', 15, 2.8, 'mas datos', 25)\n",
    "mi_tupla"
   ]
  },
  {
   "cell_type": "code",
   "execution_count": 103,
   "metadata": {},
   "outputs": [
    {
     "data": {
      "text/plain": [
       "'cadena de texto'"
      ]
     },
     "execution_count": 103,
     "metadata": {},
     "output_type": "execute_result"
    }
   ],
   "source": [
    "# Acceso ordenado\n",
    "mi_tupla[0]"
   ]
  },
  {
   "cell_type": "code",
   "execution_count": 104,
   "metadata": {},
   "outputs": [
    {
     "data": {
      "text/plain": [
       "(15, 2.8, 'mas datos')"
      ]
     },
     "execution_count": 104,
     "metadata": {},
     "output_type": "execute_result"
    }
   ],
   "source": [
    "mi_tupla[1:4] # Elementos 1, 2 y 3"
   ]
  },
  {
   "cell_type": "code",
   "execution_count": 105,
   "metadata": {},
   "outputs": [
    {
     "data": {
      "text/plain": [
       "('mas datos', 25)"
      ]
     },
     "execution_count": 105,
     "metadata": {},
     "output_type": "execute_result"
    }
   ],
   "source": [
    "mi_tupla[3:] ## Desde el elemento 3 hasta el final"
   ]
  },
  {
   "cell_type": "code",
   "execution_count": 106,
   "metadata": {},
   "outputs": [
    {
     "data": {
      "text/plain": [
       "('cadena de texto', 15)"
      ]
     },
     "execution_count": 106,
     "metadata": {},
     "output_type": "execute_result"
    }
   ],
   "source": [
    "mi_tupla[:2] # Desde el principio hasta el elemento 2"
   ]
  },
  {
   "cell_type": "code",
   "execution_count": 107,
   "metadata": {},
   "outputs": [
    {
     "data": {
      "text/plain": [
       "17.8"
      ]
     },
     "execution_count": 107,
     "metadata": {},
     "output_type": "execute_result"
    }
   ],
   "source": [
    "mi_tupla[1]+mi_tupla[2]"
   ]
  },
  {
   "cell_type": "code",
   "execution_count": 108,
   "metadata": {},
   "outputs": [
    {
     "name": "stdout",
     "output_type": "stream",
     "text": [
      "25  y  mas datos\n"
     ]
    }
   ],
   "source": [
    "print (mi_tupla[-1], ' y ', mi_tupla[-2])"
   ]
  },
  {
   "cell_type": "code",
   "execution_count": 109,
   "metadata": {},
   "outputs": [
    {
     "name": "stdout",
     "output_type": "stream",
     "text": [
      "25\n"
     ]
    },
    {
     "ename": "TypeError",
     "evalue": "'tuple' object does not support item assignment",
     "output_type": "error",
     "traceback": [
      "\u001b[1;31m---------------------------------------------------------------------------\u001b[0m",
      "\u001b[1;31mTypeError\u001b[0m                                 Traceback (most recent call last)",
      "Input \u001b[1;32mIn [109]\u001b[0m, in \u001b[0;36m<cell line: 4>\u001b[1;34m()\u001b[0m\n\u001b[0;32m      1\u001b[0m \u001b[38;5;66;03m# RECORDAMOS QUE LAS TUPLAS SON INMUTABLES. \u001b[39;00m\n\u001b[0;32m      2\u001b[0m \u001b[38;5;66;03m# No podemos cambiar un valor de una tupa\u001b[39;00m\n\u001b[0;32m      3\u001b[0m \u001b[38;5;28mprint\u001b[39m (mi_tupla[\u001b[38;5;241m4\u001b[39m])\n\u001b[1;32m----> 4\u001b[0m mi_tupla[\u001b[38;5;241m4\u001b[39m] \u001b[38;5;241m=\u001b[39m \u001b[38;5;241m26\u001b[39m\n",
      "\u001b[1;31mTypeError\u001b[0m: 'tuple' object does not support item assignment"
     ]
    }
   ],
   "source": [
    "# RECORDAMOS QUE LAS TUPLAS SON INMUTABLES. \n",
    "# No podemos cambiar un valor de una tupa\n",
    "print (mi_tupla[4])\n",
    "mi_tupla[4] = 26"
   ]
  },
  {
   "cell_type": "code",
   "execution_count": 110,
   "metadata": {},
   "outputs": [
    {
     "name": "stdout",
     "output_type": "stream",
     "text": [
      "tupla1[1:3]:\t (3, 5)\n"
     ]
    }
   ],
   "source": [
    "tupla1 = (1, 3, 5, 7)\n",
    "print('tupla1[1:3]:\\t', tupla1[1:3]) # Imprime los valores idx 1 y 2"
   ]
  },
  {
   "cell_type": "code",
   "execution_count": 111,
   "metadata": {},
   "outputs": [
    {
     "name": "stdout",
     "output_type": "stream",
     "text": [
      "tupla1[:3]:\t (1, 3, 5)\n",
      "tupla1[1:]:\t (3, 5, 7)\n"
     ]
    }
   ],
   "source": [
    "print('tupla1[:3]:\\t', tupla1[:3]) # Imprime los valores idx 0, 1 y 2\n",
    "print('tupla1[1:]:\\t', tupla1[1:]) # Imprime los valores idx 1, 2, y 3"
   ]
  },
  {
   "cell_type": "code",
   "execution_count": null,
   "metadata": {},
   "outputs": [],
   "source": [
    "print('tupla1[::-1]:\\t', tupla1[:])"
   ]
  },
  {
   "cell_type": "code",
   "execution_count": null,
   "metadata": {},
   "outputs": [],
   "source": [
    "print('tupla1[::-1]:\\t', tupla1[::-1]) # Imprime toda la lista de valores al revés."
   ]
  },
  {
   "cell_type": "code",
   "execution_count": null,
   "metadata": {},
   "outputs": [],
   "source": [
    "tupla2 = ('manzana', 'pera', 'naranja', 'platano', 'manzana')\n",
    "# Iteramos la tupla\n",
    "for i in tupla2:\n",
    "    print (i)"
   ]
  },
  {
   "cell_type": "code",
   "execution_count": null,
   "metadata": {},
   "outputs": [],
   "source": [
    "print('len(tupla2):\\t', len(tupla2)) # Número de elementos totales\n",
    "print(tupla2.count('manzana')) # Número de elementos coincidentes\n",
    "print(tupla2.index('pera')) # Posición que ocupa (empieza en 0!!!)"
   ]
  },
  {
   "cell_type": "code",
   "execution_count": null,
   "metadata": {},
   "outputs": [],
   "source": [
    "if 'naranja' in tupla2:\n",
    "    print('Naranja está en la tupla')"
   ]
  },
  {
   "cell_type": "code",
   "execution_count": null,
   "metadata": {},
   "outputs": [],
   "source": [
    "# Rizando el rizo\n",
    "tupla_x = ('x', 'y', 'z')\n",
    "tupla_y = ('a', 'b', 'c')\n",
    "tupla_z = ('Eva', 'Ana', 'Elvira')\n",
    "tupla_xyz = (1, 18, tupla_x, 34, tupla_y, 'Benito', tupla_z, 'Segismundo', 19)\n",
    "print (tupla_xyz)"
   ]
  },
  {
   "cell_type": "markdown",
   "metadata": {},
   "source": [
    "### Listas: Permite acumular y manipular elementos de forma sencilla\n",
    "\n",
    "[Documentación oficial](https://docs.python.org/3/tutorial/datastructures.html#more-on-lists)"
   ]
  },
  {
   "cell_type": "code",
   "execution_count": 4,
   "metadata": {},
   "outputs": [
    {
     "data": {
      "text/plain": [
       "[1, 2, 3, 4, 5]"
      ]
     },
     "execution_count": 4,
     "metadata": {},
     "output_type": "execute_result"
    }
   ],
   "source": [
    "# Listas\n",
    "mi_lista = [1, 2, 3, 4, 5]\n",
    "mi_lista"
   ]
  },
  {
   "cell_type": "code",
   "execution_count": 5,
   "metadata": {},
   "outputs": [
    {
     "data": {
      "text/plain": [
       "[1, 2, 3, 4, 5, 6, 6, 6]"
      ]
     },
     "execution_count": 5,
     "metadata": {},
     "output_type": "execute_result"
    }
   ],
   "source": [
    "# inclusión de elementos en la lista\n",
    "mi_lista.append (6)\n",
    "mi_lista.append (6)\n",
    "mi_lista.append (6)\n",
    "\n",
    "mi_lista"
   ]
  },
  {
   "cell_type": "code",
   "execution_count": null,
   "metadata": {},
   "outputs": [],
   "source": [
    "# Acceso preciso a los elementos de la lista\n",
    "print ('Primer elemento: ', mi_lista[0])\n",
    "print ('Tercer elemento: ', mi_lista[2])\n",
    "print ('Penúltimo elemento: ', mi_lista [-2])\n",
    "print ('Último elemento: ', mi_lista [-1]) \n",
    "print ('Todos los elementos de la lista menos el primero y el último: ', mi_lista[1:-1])"
   ]
  },
  {
   "cell_type": "code",
   "execution_count": 1,
   "metadata": {},
   "outputs": [
    {
     "name": "stdout",
     "output_type": "stream",
     "text": [
      "beatles[1]: Paul\n",
      "beatles[-1]: Ringo\n",
      "beatles[1:3]: ['Paul', 'George']\n",
      "beatles[:3]: ['John', 'Paul', 'George']\n",
      "beatles[1:]: ['Paul', 'George', 'Ringo']\n"
     ]
    }
   ],
   "source": [
    "beatles = ['John', 'Paul', 'George', 'Ringo']\n",
    "print('beatles[1]:', beatles[1])\n",
    "print('beatles[-1]:', beatles[-1])\n",
    "print('beatles[1:3]:', beatles[1:3])\n",
    "print('beatles[:3]:', beatles[:3])\n",
    "print('beatles[1:]:', beatles[1:])"
   ]
  },
  {
   "cell_type": "code",
   "execution_count": 2,
   "metadata": {},
   "outputs": [
    {
     "name": "stdout",
     "output_type": "stream",
     "text": [
      "['John', 'Paul', 'George', 'Ringo', 'a', 'b']\n"
     ]
    }
   ],
   "source": [
    "# Mas formas de añadir valores a una lista\n",
    "beatles.extend(['a', 'b'])\n",
    "print (beatles)"
   ]
  },
  {
   "cell_type": "code",
   "execution_count": null,
   "metadata": {},
   "outputs": [],
   "source": [
    "beatles"
   ]
  },
  {
   "cell_type": "code",
   "execution_count": 3,
   "metadata": {},
   "outputs": [
    {
     "name": "stdout",
     "output_type": "stream",
     "text": [
      "['John', 'Paul', 'George', 'Ringo', 'a', 'b', 'x', 'z']\n"
     ]
    }
   ],
   "source": [
    "beatles += ['x', 'z']\n",
    "print(beatles)"
   ]
  },
  {
   "cell_type": "code",
   "execution_count": 4,
   "metadata": {},
   "outputs": [
    {
     "data": {
      "text/plain": [
       "['Comienza', 'John', 'Paul', 'George', 'Ringo', 'a', 'b', 'x', 'z']"
      ]
     },
     "execution_count": 4,
     "metadata": {},
     "output_type": "execute_result"
    }
   ],
   "source": [
    "# Podemos insertar en determinadas posiciones\n",
    "beatles.insert(0, 'Comienza')\n",
    "beatles"
   ]
  },
  {
   "cell_type": "code",
   "execution_count": null,
   "metadata": {},
   "outputs": [],
   "source": [
    "beatles.insert(5, 'Por el medio')\n",
    "beatles"
   ]
  },
  {
   "cell_type": "code",
   "execution_count": null,
   "metadata": {},
   "outputs": [],
   "source": [
    "# Listas de distintos datos combinadas\n",
    "mi_lista_loca = ['uno', 'dos', 'tres', 4, 5, 6.0]\n",
    "mi_lista_loca"
   ]
  },
  {
   "cell_type": "code",
   "execution_count": 112,
   "metadata": {},
   "outputs": [
    {
     "name": "stdout",
     "output_type": "stream",
     "text": [
      "['juan', [1, 43.5, 'Raquel', 21, True], ['manzana', 'naranja', 31], 'daniel']\n"
     ]
    }
   ],
   "source": [
    "# Combinar listas\n",
    "l1 = [1, 43.5, 'Raquel', 21, True]\n",
    "l2 = ['manzana', 'naranja', 31]\n",
    "lista_listas = ['juan', l1, l2, 'daniel']\n",
    "print(lista_listas)"
   ]
  },
  {
   "cell_type": "code",
   "execution_count": 113,
   "metadata": {},
   "outputs": [
    {
     "ename": "NameError",
     "evalue": "name 'mi_lista_loca' is not defined",
     "output_type": "error",
     "traceback": [
      "\u001b[1;31m---------------------------------------------------------------------------\u001b[0m",
      "\u001b[1;31mNameError\u001b[0m                                 Traceback (most recent call last)",
      "Input \u001b[1;32mIn [113]\u001b[0m, in \u001b[0;36m<cell line: 2>\u001b[1;34m()\u001b[0m\n\u001b[0;32m      1\u001b[0m \u001b[38;5;66;03m# podemos incluir elementos sumando dos listas\u001b[39;00m\n\u001b[1;32m----> 2\u001b[0m mi_lista_loca2 \u001b[38;5;241m=\u001b[39m \u001b[43mmi_lista_loca\u001b[49m[:\u001b[38;5;241m3\u001b[39m] \u001b[38;5;241m+\u001b[39m [\u001b[38;5;124m'\u001b[39m\u001b[38;5;124mleche\u001b[39m\u001b[38;5;124m'\u001b[39m, \u001b[38;5;124m'\u001b[39m\u001b[38;5;124mpan\u001b[39m\u001b[38;5;124m'\u001b[39m, \u001b[38;5;124m'\u001b[39m\u001b[38;5;124mhuevos\u001b[39m\u001b[38;5;124m'\u001b[39m, \u001b[38;5;241m2\u001b[39m \u001b[38;5;241m*\u001b[39m \u001b[38;5;241m2\u001b[39m, \u001b[38;5;241m3\u001b[39m \u001b[38;5;241m*\u001b[39m\u001b[38;5;241m*\u001b[39m \u001b[38;5;241m3\u001b[39m]\n\u001b[0;32m      3\u001b[0m mi_lista_loca2\n",
      "\u001b[1;31mNameError\u001b[0m: name 'mi_lista_loca' is not defined"
     ]
    }
   ],
   "source": [
    "# podemos incluir elementos sumando dos listas\n",
    "mi_lista_loca2 = mi_lista_loca[:3] + ['leche', 'pan', 'huevos', 2 * 2, 3 ** 3]\n",
    "mi_lista_loca2"
   ]
  },
  {
   "cell_type": "code",
   "execution_count": null,
   "metadata": {},
   "outputs": [],
   "source": [
    "# obtener los elementos que queremos. \n",
    "mi_lista_loca[3:] # Desde el 3er elemento hasta el final"
   ]
  },
  {
   "cell_type": "code",
   "execution_count": null,
   "metadata": {},
   "outputs": [],
   "source": [
    "# repetir la lista dos veces y añadir nuevos elementos\n",
    "2 * mi_lista_loca[3:] + ['ay', 'mundo', 'cruel']"
   ]
  },
  {
   "cell_type": "code",
   "execution_count": null,
   "metadata": {},
   "outputs": [],
   "source": [
    "# Y se puede modificar un elemento de la lista (no como en las tuplas, que daba error)\n",
    "mi_lista_loca[5] = mi_lista_loca[5] * 5\n",
    "mi_lista_loca"
   ]
  },
  {
   "cell_type": "code",
   "execution_count": null,
   "metadata": {},
   "outputs": [],
   "source": [
    "mi_lista_loca[:2] = '' # Eliminamos los dos primeros elementos\n",
    "mi_lista_loca"
   ]
  },
  {
   "cell_type": "code",
   "execution_count": null,
   "metadata": {},
   "outputs": [],
   "source": [
    "# Volvemos sobre la lista inicial\n",
    "print ('Mi lista tiene ', len(mi_lista) , ' elementos, que son: ', mi_lista)"
   ]
  },
  {
   "cell_type": "code",
   "execution_count": null,
   "metadata": {},
   "outputs": [],
   "source": [
    "# Tambien podemos crear una lista de string\n",
    "lista = ['a', 'b', 'c', 'd', 'e', 'f', 'g', 'h']"
   ]
  },
  {
   "cell_type": "code",
   "execution_count": null,
   "metadata": {},
   "outputs": [],
   "source": [
    "lista"
   ]
  },
  {
   "cell_type": "code",
   "execution_count": null,
   "metadata": {},
   "outputs": [],
   "source": [
    "# y trabajar un poco sobre ella, adelantando contenido....\n",
    "letra = str(input('Dime una letra: '))\n",
    "if letra not in lista: # Se comprueba que un elemento NO ESTE en una lista\n",
    "    print ('La letra ', letra, ' no está en la lista')\n",
    "else:\n",
    "    print ('La letra ', letra, ' si está en la lista')"
   ]
  },
  {
   "cell_type": "code",
   "execution_count": 6,
   "metadata": {},
   "outputs": [
    {
     "data": {
      "text/plain": [
       "['cocido madrileño',\n",
       " 'paella',\n",
       " 'gazpacho',\n",
       " 'jamón',\n",
       " 'fabada',\n",
       " 'tortilla de patatas']"
      ]
     },
     "execution_count": 6,
     "metadata": {},
     "output_type": "execute_result"
    }
   ],
   "source": [
    "# Ahora gastro ya es una lista, no un conjunto\n",
    "gastro = ['cocido madrileño', 'paella', 'gazpacho', 'jamón', 'fabada', 'tortilla de patatas']\n",
    "gastro"
   ]
  },
  {
   "cell_type": "code",
   "execution_count": 7,
   "metadata": {},
   "outputs": [
    {
     "data": {
      "text/plain": [
       "{'cocido madrileño',\n",
       " 'fabada',\n",
       " 'gazpacho',\n",
       " 'jamón',\n",
       " 'paella',\n",
       " 'tortilla de patatas'}"
      ]
     },
     "execution_count": 7,
     "metadata": {},
     "output_type": "execute_result"
    }
   ],
   "source": [
    "comida_esp = set(gastro)\n",
    "comida_esp"
   ]
  },
  {
   "cell_type": "code",
   "execution_count": 8,
   "metadata": {},
   "outputs": [
    {
     "data": {
      "text/plain": [
       "True"
      ]
     },
     "execution_count": 8,
     "metadata": {},
     "output_type": "execute_result"
    }
   ],
   "source": [
    "'paella' in gastro"
   ]
  },
  {
   "cell_type": "code",
   "execution_count": 9,
   "metadata": {},
   "outputs": [
    {
     "data": {
      "text/plain": [
       "['cocido madrileño',\n",
       " 'paella',\n",
       " 'gazpacho',\n",
       " 'jamón',\n",
       " 'fabada',\n",
       " 'tortilla de patatas',\n",
       " 'paella']"
      ]
     },
     "execution_count": 9,
     "metadata": {},
     "output_type": "execute_result"
    }
   ],
   "source": [
    "gastro.append('paella') # Ahora si nos permite datos repetidos\n",
    "gastro"
   ]
  },
  {
   "cell_type": "code",
   "execution_count": null,
   "metadata": {},
   "outputs": [],
   "source": [
    "# Podemos iterar \n",
    "en_asturias = 'fabada' in comida_esp\n",
    "print (en_asturias)"
   ]
  },
  {
   "cell_type": "code",
   "execution_count": null,
   "metadata": {},
   "outputs": [],
   "source": [
    "# Consultamos indices\n",
    "print (gastro.index('paella'))\n",
    "print (gastro[3]) # El índice empieza por 0"
   ]
  },
  {
   "cell_type": "code",
   "execution_count": null,
   "metadata": {},
   "outputs": [],
   "source": [
    "# Si no nos gusta el gazpacho, lo quitamos\n",
    "gastro.remove('gazpacho')\n",
    "gastro"
   ]
  },
  {
   "cell_type": "code",
   "execution_count": null,
   "metadata": {},
   "outputs": [],
   "source": [
    "# Si no nos gusta el gazpacho, lo quitamos\n",
    "gastro.remove('paella') # Solo elimina la primera ocurrencia\n",
    "gastro"
   ]
  },
  {
   "cell_type": "code",
   "execution_count": null,
   "metadata": {},
   "outputs": [],
   "source": [
    "# Y podemos borrar la lista\n",
    "del gastro"
   ]
  },
  {
   "cell_type": "markdown",
   "metadata": {},
   "source": [
    "### Diccionarios: Permite identificar sus elementos a través de una clave\n",
    "\n",
    "[Documentación oficial](https://docs.python.org/3/tutorial/datastructures.html#dictionaries)"
   ]
  },
  {
   "cell_type": "code",
   "execution_count": null,
   "metadata": {},
   "outputs": [],
   "source": [
    "# Estructura clave-valor\n",
    "capitales = {'Espana': 'Madrid',\n",
    "            'Inglaterra': 'Londres',\n",
    "            'Francia': 'Paris',\n",
    "            'Portugal': 'Lisboa'}\n",
    "print(capitales)"
   ]
  },
  {
   "cell_type": "code",
   "execution_count": null,
   "metadata": {},
   "outputs": [],
   "source": [
    "# Consultar valores\n",
    "print (capitales['Espana'])\n",
    "print (capitales.get('Francia'))"
   ]
  },
  {
   "cell_type": "code",
   "execution_count": null,
   "metadata": {},
   "outputs": [],
   "source": [
    "# Añadir valores\n",
    "capitales['Belgica'] = 'Bruselas'\n",
    "capitales"
   ]
  },
  {
   "cell_type": "code",
   "execution_count": null,
   "metadata": {},
   "outputs": [],
   "source": [
    "# Cambiando valores\n",
    "capitales['Italia'] = 'Florencia' # Valor erróneo\n",
    "capitales['Italia'] = 'Roma' # Valor OK\n",
    "capitales"
   ]
  },
  {
   "cell_type": "code",
   "execution_count": null,
   "metadata": {},
   "outputs": [],
   "source": [
    "# Borrando valores\n",
    "del capitales['Inglaterra']\n",
    "capitales"
   ]
  },
  {
   "cell_type": "code",
   "execution_count": null,
   "metadata": {},
   "outputs": [],
   "source": [
    "# Iterando\n",
    "for elementos in capitales:\n",
    "    print (elementos, end = ', ')\n",
    "    print (capitales[elementos])"
   ]
  },
  {
   "cell_type": "code",
   "execution_count": null,
   "metadata": {},
   "outputs": [],
   "source": [
    "# Acceso a los elementos\n",
    "print(capitales.values())\n",
    "print(capitales.keys())\n",
    "print(capitales.items())"
   ]
  },
  {
   "cell_type": "code",
   "execution_count": null,
   "metadata": {},
   "outputs": [],
   "source": [
    "# Accesos por clave\n",
    "print('Lisboa' in capitales)\n",
    "print('Francia' not in capitales)\n",
    "print ('Lisboa' not in capitales)\n",
    "print ('Portugal' in capitales)"
   ]
  },
  {
   "cell_type": "code",
   "execution_count": null,
   "metadata": {},
   "outputs": [],
   "source": [
    "#Estructura clave-valor\n",
    "diccionario = {'nombre': 'juan', 'edad': 22, 'cursos': ['Python', 'Machine Learning', 'R']}\n",
    "diccionario"
   ]
  },
  {
   "cell_type": "code",
   "execution_count": null,
   "metadata": {},
   "outputs": [],
   "source": [
    "#Acceso por clave\n",
    "print (diccionario['nombre'])\n",
    "print (diccionario['edad'])\n",
    "print (diccionario['cursos'])"
   ]
  },
  {
   "cell_type": "code",
   "execution_count": null,
   "metadata": {},
   "outputs": [],
   "source": [
    "print (diccionario['cursos'][0])"
   ]
  },
  {
   "cell_type": "code",
   "execution_count": null,
   "metadata": {},
   "outputs": [],
   "source": [
    "#podemos aadir una clave nueva\n",
    "diccionario['direccion'] = 'Avenida de la Conchinchina, 1'\n",
    "diccionario"
   ]
  },
  {
   "cell_type": "code",
   "execution_count": null,
   "metadata": {},
   "outputs": [],
   "source": [
    "# y borrar con la misma facilidad\n",
    "del(diccionario['direccion'])\n",
    "diccionario"
   ]
  },
  {
   "cell_type": "code",
   "execution_count": null,
   "metadata": {},
   "outputs": [],
   "source": [
    "# igual que las listas, podemos modificar valores\n",
    "diccionario['nombre'] = 'Andres'\n",
    "diccionario"
   ]
  },
  {
   "cell_type": "code",
   "execution_count": null,
   "metadata": {},
   "outputs": [],
   "source": [
    "mi_diccionario = {'clave1': 'valor1', 'clave_2': 2, 'clave3': 3.33, (1,2):[5,6,7]}\n",
    "mi_diccionario"
   ]
  },
  {
   "cell_type": "code",
   "execution_count": null,
   "metadata": {},
   "outputs": [],
   "source": [
    "print (mi_diccionario[(1,2)])"
   ]
  },
  {
   "cell_type": "markdown",
   "metadata": {},
   "source": [
    "---"
   ]
  }
 ],
 "metadata": {
  "kernelspec": {
   "display_name": "Python 3 (ipykernel)",
   "language": "python",
   "name": "python3"
  },
  "language_info": {
   "codemirror_mode": {
    "name": "ipython",
    "version": 3
   },
   "file_extension": ".py",
   "mimetype": "text/x-python",
   "name": "python",
   "nbconvert_exporter": "python",
   "pygments_lexer": "ipython3",
   "version": "3.9.12"
  }
 },
 "nbformat": 4,
 "nbformat_minor": 2
}
